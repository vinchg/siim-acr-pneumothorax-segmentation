{
 "cells": [
  {
   "cell_type": "code",
   "execution_count": 21,
   "metadata": {},
   "outputs": [],
   "source": [
    "import pandas as pd"
   ]
  },
  {
   "cell_type": "code",
   "execution_count": 25,
   "metadata": {},
   "outputs": [],
   "source": [
    "classifier = pd.read_csv('classifier95.csv')\n",
    "submission = pd.read_csv('submission.csv')"
   ]
  },
  {
   "cell_type": "code",
   "execution_count": 26,
   "metadata": {},
   "outputs": [],
   "source": [
    "encoded_pixels = []\n",
    "false_positives = 0\n",
    "false_negatives = 0\n",
    "for i in range(len(submission)):\n",
    "    if classifier.iloc[i]['EncodedPixels'] == -1:\n",
    "        encoded_pixels.append('-1')\n",
    "        if submission.iloc[i]['EncodedPixels'] != '-1':\n",
    "            false_positives += 1\n",
    "    elif classifier.iloc[i]['EncodedPixels'] == 1:\n",
    "        encoded_pixels.append(submission.iloc[i]['EncodedPixels'])\n",
    "        if submission.iloc[i]['EncodedPixels'] == '-1':\n",
    "            false_negatives += 1\n",
    "\n",
    "submission['EncodedPixels'] = encoded_pixels\n",
    "submission.to_csv('submission_95.csv', columns=['ImageId', 'EncodedPixels'], index=False)"
   ]
  },
  {
   "cell_type": "code",
   "execution_count": 27,
   "metadata": {},
   "outputs": [
    {
     "name": "stdout",
     "output_type": "stream",
     "text": [
      "False positives: 378 False negatives: 1\n"
     ]
    }
   ],
   "source": [
    "print('False positives:', false_positives, 'False negatives:', false_negatives)"
   ]
  },
  {
   "cell_type": "code",
   "execution_count": null,
   "metadata": {},
   "outputs": [],
   "source": []
  }
 ],
 "metadata": {
  "kernelspec": {
   "display_name": "Python 3",
   "language": "python",
   "name": "python3"
  },
  "language_info": {
   "codemirror_mode": {
    "name": "ipython",
    "version": 3
   },
   "file_extension": ".py",
   "mimetype": "text/x-python",
   "name": "python",
   "nbconvert_exporter": "python",
   "pygments_lexer": "ipython3",
   "version": "3.7.4"
  }
 },
 "nbformat": 4,
 "nbformat_minor": 2
}
