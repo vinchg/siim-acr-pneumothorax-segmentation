{
 "cells": [
  {
   "cell_type": "code",
   "execution_count": 2,
   "metadata": {},
   "outputs": [],
   "source": [
    "import numpy as np\n",
    "import pandas as pd\n",
    "import matplotlib.pyplot as plt\n",
    "\n",
    "import pydicom\n",
    "\n",
    "from utils.dataInfo import *\n",
    "from utils.mask_functions import *\n",
    "\n",
    "from networks.network import Thicc_Net\n",
    "from utils.pneumonia_dataset import PneumoniaDataset\n",
    "from utils.trainer import train_loop\n",
    "\n",
    "import torch\n",
    "import torch.nn as nn\n",
    "import torch.nn.functional as F\n",
    "from torch.autograd import Variable"
   ]
  },
  {
   "cell_type": "code",
   "execution_count": 5,
   "metadata": {
    "collapsed": true
   },
   "outputs": [],
   "source": [
    "train_path = 'siim/dicom-images-train/'\n",
    "test_path = 'siim/dicom-images-test/'\n",
    "mask_path = 'siim/'"
   ]
  },
  {
   "cell_type": "code",
   "execution_count": 6,
   "metadata": {
    "collapsed": true
   },
   "outputs": [],
   "source": [
    "from glob import glob\n",
    "\n",
    "def dicom_to_dict(dicom_data, file_path, rles_df=None, encoded_pixels=True):\n",
    "    \"\"\"Parse DICOM dataset and returns a dictonary with relevant fields.\n",
    "\n",
    "    Args:\n",
    "        dicom_data (dicom): chest x-ray data in dicom format.\n",
    "        file_path (str): file path of the dicom data.\n",
    "        rles_df (pandas.core.frame.DataFrame): Pandas dataframe of the RLE.\n",
    "        encoded_pixels (bool): if True we will search for annotation.\n",
    "        \n",
    "    Returns:\n",
    "        dict: contains metadata of relevant fields.\n",
    "    \"\"\"\n",
    "    \n",
    "    data = {}\n",
    "    \n",
    "    # Parse fields with meaningful information\n",
    "    data['patient_name'] = dicom_data.PatientName\n",
    "    data['patient_id'] = dicom_data.PatientID\n",
    "    data['patient_age'] = int(dicom_data.PatientAge)\n",
    "    data['patient_sex'] = dicom_data.PatientSex\n",
    "    data['pixel_spacing'] = dicom_data.PixelSpacing\n",
    "    data['file_path'] = file_path\n",
    "    data['id'] = dicom_data.SOPInstanceUID\n",
    "    \n",
    "    # look for annotation if enabled (train set)\n",
    "    if encoded_pixels:\n",
    "        encoded_pixels_list = rles_df[rles_df['ImageId']==dicom_data.SOPInstanceUID]['EncodedPixels'].values\n",
    "       \n",
    "        pneumothorax = False\n",
    "        for encoded_pixels in encoded_pixels_list:\n",
    "            if encoded_pixels != ' -1':\n",
    "                pneumothorax = True\n",
    "        \n",
    "        # get meaningful information (for train set)\n",
    "        data['encoded_pixels_list'] = encoded_pixels_list\n",
    "        data['has_pneumothorax'] = pneumothorax\n",
    "        data['encoded_pixels_count'] = len(encoded_pixels_list)\n",
    "        \n",
    "    return data"
   ]
  },
  {
   "cell_type": "code",
   "execution_count": null,
   "metadata": {
    "collapsed": true
   },
   "outputs": [],
   "source": [
    "def get_train_train(train_path, mask_path):\n",
    "    rles_df = pd.read_csv(mask_path+'train-rle.csv')\n",
    "    rles_df.columns = ['ImageId', 'EncodedPixels']\n",
    "    train_fns = glob(train_path+'*/*/*.dcm')\n",
    "    for filepath in train_fns:\n",
    "        dicom_data = pydicom.dcmread(file_path)\n",
    "        dicom_to_dict(dicom_data, )\n",
    "    \n",
    "    return df"
   ]
  },
  {
   "cell_type": "code",
   "execution_count": null,
   "metadata": {
    "collapsed": true
   },
   "outputs": [],
   "source": []
  },
  {
   "cell_type": "code",
   "execution_count": null,
   "metadata": {
    "collapsed": true
   },
   "outputs": [],
   "source": [
    "train_df = get_train_data(train_path, mask_path)\n",
    "test_df = get_test_data(test_path)"
   ]
  }
 ],
 "metadata": {
  "kernelspec": {
   "display_name": "Python 3",
   "language": "python",
   "name": "python3"
  },
  "language_info": {
   "codemirror_mode": {
    "name": "ipython",
    "version": 3
   },
   "file_extension": ".py",
   "mimetype": "text/x-python",
   "name": "python",
   "nbconvert_exporter": "python",
   "pygments_lexer": "ipython3",
   "version": "3.6.3"
  }
 },
 "nbformat": 4,
 "nbformat_minor": 2
}
